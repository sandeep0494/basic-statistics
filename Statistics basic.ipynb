{
 "cells": [
  {
   "cell_type": "code",
   "execution_count": null,
   "id": "1fbed699",
   "metadata": {},
   "outputs": [],
   "source": [
    "Q1. What is Statistics?\n",
    "    Statistics is a science where we can study about the data and summarize the data.\n",
    "    OR \n",
    "    Statistics is a branch of science that deals with the collection, analysis, interpretation, \n",
    "    presentation, and organization of data. It involves methods and techniques for gathering, summarizing, \n",
    "    and analyzing data to understand patterns, trends, and variability in a set of observations or measurements"
   ]
  },
  {
   "cell_type": "code",
   "execution_count": null,
   "id": "e2c1eebd",
   "metadata": {},
   "outputs": [],
   "source": [
    "Q2. Define the different types of statistics and give an example of when each type might be used.\n",
    "There are two type of Statistics:\n",
    "    1-Descriptive statistics\n",
    "    2-Inferential statistics\n",
    "    \n",
    "Descriptive statistics:\n",
    "    It is basically used to describe the data or manipulate the data. It tells about the different parameter of the data.\n",
    "    It does not conclude the data for further work.\n",
    "    i.e.- mean,median,mode etc. of the data.\n",
    "Inferential statistics:\n",
    "    It is basically used to conclude the data set for further work.\n",
    "    i.e.-mean of the class 7 student is greater than 5 feet."
   ]
  },
  {
   "cell_type": "code",
   "execution_count": null,
   "id": "439aa883",
   "metadata": {},
   "outputs": [],
   "source": [
    "Q3. What are the different types of data and how do they differ from each other? Provide an example of\n",
    "each type of data.\n",
    "   Mainly data is two type:\n",
    "        1-Quantitative data\n",
    "        2-Qualitative data\n",
    "    The difference between these two are : \n",
    "        In Quantitative data, we can quantify the data,i.e. we can count the data and all the mathematical operation can be done\n",
    "        like-addition,substraction,multiplication,division,etc.\n",
    "        i.e. Height of the tree, lengh of the river etc.\n",
    "        \n",
    "        In Qualitative data , we cann't count it and also cann't be apply the mathematical operation.Only it can be categorize \n",
    "        in the groups.\n",
    "        i.e. grade of exam marks obtained by students, performace of the player in the game., color of girl's eye."
   ]
  },
  {
   "cell_type": "code",
   "execution_count": null,
   "id": "7ebcee24",
   "metadata": {},
   "outputs": [],
   "source": [
    "Q4. Categorise the following datasets with respect to quantitative and qualitative data types:\n",
    "(i) Grading in exam: A+, A, B+, B, C+, C, D, E                                      Qualitative data    \n",
    "(ii) Colour of mangoes: yellow, green, orange, red                                  Qualitative data\n",
    "(iii) Height data of a class: [178.9, 179, 179.5, 176, 177.2, 178.3, 175.8,...]     Quantitative data\n",
    "(iv) Number of mangoes exported by a farm: [500, 600, 478, 672, ...]                Quantitative data"
   ]
  },
  {
   "cell_type": "code",
   "execution_count": null,
   "id": "2ceb19ec",
   "metadata": {},
   "outputs": [],
   "source": [
    "Q5. Explain the concept of levels of measurement and give an example of a variable for each level.\n",
    "\n",
    "Levels of measurement refer to the different ways in which variables can be categorized or classified based on the nature and \n",
    "characteristics of the data. \n",
    "There are four main levels of measurement: \n",
    "    nominal, ordinal, interval, and ratio.\n",
    "\n",
    "Nominal Level:\n",
    "    Data are categorized into distinct and unordered categories or labels. \n",
    "    Nominal variables do not have a meaningful numerical value.\n",
    "    Example: Eye color (e.g., brown, blue, green).\n",
    "    \n",
    "Ordinal Level:\n",
    "    Data can be categorized into ordered categories or lebels.\n",
    "    cann't be aplly addition or substraction.\n",
    "    Example: Education level (e.g., high school, bachelor's degree, master's degree).\n",
    "             While we can order these categories based on the level of education.\n",
    "        \n",
    "Interval Level:\n",
    "    This level includes ordered categories with consistent and meaningful intervals between them, \n",
    "    there is no true zero point. \n",
    "    ratios of values are not meaningful.\n",
    "    Example: Temperature in Celsius or Fahrenheit. The difference between 20°C and 30°C is the same as \n",
    "             the difference between 30°C and 40°C, \n",
    "             but 0°C does not represent the absence of temperature.\n",
    "\n",
    "Ratio Level:\n",
    "    data are in ordered categories with consistent intervals,  \n",
    "    there is a true zero point,  ratios meaningful.\n",
    "    Example: Height, weight, income. These variables have a true zero point, and ratios between values are meaningful"
   ]
  },
  {
   "cell_type": "code",
   "execution_count": null,
   "id": "73ccd28c",
   "metadata": {},
   "outputs": [],
   "source": [
    "Q6. Why is it important to understand the level of measurement when analyzing data? Provide an\n",
    "example to illustrate your answer.\n",
    "\n",
    "Different levels of measurement have different properties and constraints, and using the appropriate statistical analysis for\n",
    "a given level ensures accurate and meaningful conclusions.\n",
    "\n",
    "Let's illustrate the importance of understanding the level of measurement with an example involving a common statistical \n",
    "operation: calculating the mean.\n",
    "\n",
    "Suppose we have a dataset of customer satisfaction ratings for a product on a scale of 1 to 5 (ordinal scale) and \n",
    "another dataset of daily temperature readings in two cities in Celsius (interval scale). \n",
    "Let's attempt to calculate the mean for both datasets:\n",
    "\n",
    "Customer Satisfaction Ratings (Ordinal Scale):\n",
    "\n",
    "Ratings: 3, 4, 5, 2, 4, 3, 5, 3\n",
    "Calculating the mean: (3 + 4 + 5 + 2 + 4 + 3 + 5 + 3) / 8 = 3.5\n",
    "In this case, calculating the mean is somewhat misleading because the ordinal scale doesn't guarantee equal intervals \n",
    "between the categories. The mean of 3.5 might suggest a higher satisfaction than the actual responses indicate due to \n",
    "the assumption of equal intervals.\n",
    "\n",
    "Daily Temperature Readings (Interval Scale):\n",
    "\n",
    "Temperatures (in °C): 20, 25, 28, 22, 30\n",
    "Calculating the mean: (20 + 25 + 28 + 22 + 30) / 5 = 25\n",
    "For temperature, calculating the mean is appropriate since the interval between each degree Celsius is consistent and meaningful\n",
    ". The mean of 25°C accurately represents the average temperature.\n",
    "\n",
    "Understanding the level of measurement helps us interpret the results appropriately. In the first example, \n",
    "calculating a mean for an ordinal scale variable could lead to misinterpretations due to the assumption of equal intervals, \n",
    "which may not hold. \n",
    "In the second example, using the mean for an interval scale variable is appropriate and provides a meaningful representation of\n",
    "the average temperature. Thus, being aware of the level of measurement is fundamental for accurate analysis\n",
    "and meaningful interpretation of data.\n"
   ]
  },
  {
   "cell_type": "code",
   "execution_count": null,
   "id": "02e72e8d",
   "metadata": {},
   "outputs": [],
   "source": [
    "Q7. How nominal data type is different from ordinal data type.\n",
    "\n",
    " the key difference is that nominal data represents categories without any meaningful order, \n",
    " while ordinal data represents categories with a meaningful order but inconsistent intervals between them.\n",
    "\n",
    "for nominal -Example: Eye color (e.g., brown, blue, green)\n",
    "for ordinal -Example: Education level (e.g., high school, bachelor's degree, master's degree)."
   ]
  },
  {
   "cell_type": "code",
   "execution_count": null,
   "id": "929f51da",
   "metadata": {},
   "outputs": [],
   "source": [
    "Q8. Which type of plot can be used to display data in terms of range?\n",
    "\n",
    "The range bar plot\n",
    "The box plot"
   ]
  },
  {
   "cell_type": "code",
   "execution_count": null,
   "id": "abfc1f23",
   "metadata": {},
   "outputs": [],
   "source": [
    "Q9. Describe the difference between descriptive and inferential statistics. Give an example of each\n",
    "type of statistics and explain how they are used.\n",
    "\n",
    "Descriptive statistics:\n",
    "    It is basically used to describe the data or manipulate the data. It tells about the different parameter of the data.\n",
    "    It does not conclude the data for further work.\n",
    "    i.e.- mean,median,mode etc. of the data.\n",
    "Inferential statistics:\n",
    "    It is basically used to conclude the data set for further work.\n",
    "    i.e.-mean of the class 7 student is greater than 5 feet."
   ]
  },
  {
   "cell_type": "code",
   "execution_count": null,
   "id": "5a8dc243",
   "metadata": {},
   "outputs": [],
   "source": [
    "Q10. What are some common measures of central tendency and variability used in statistics? Explain\n",
    "how each measure can be used to describe a dataset.\n",
    "\n",
    "Measures of Central Tendency:\n",
    "Mean:\n",
    "\n",
    "The mean is the average of all the data points in a dataset. It is calculated by summing all the values and dividing by the\n",
    "total number of observations.\n",
    "Use: The mean provides a measure of the dataset's center and is sensitive to outliers. It's useful for describing the typical\n",
    "     value in a dataset.\n",
    "\n",
    "Median:\n",
    "\n",
    "The median is the middle value in a dataset when the data is arranged in numerical order. If there is an even number of \n",
    "observations, the median is the average of the middle two values.\n",
    "Use: The median is robust to outliers and provides a measure of the dataset's center. It's useful when dealing with skewed \n",
    "     distributions or data with extreme values.\n",
    "\n",
    "Mode:\n",
    "\n",
    "The mode is the most frequently occurring value(s) in a dataset.\n",
    "Use: The mode is useful for identifying the most common value(s) in a dataset, which can be important for categorical or \n",
    "     discrete data."
   ]
  },
  {
   "cell_type": "code",
   "execution_count": null,
   "id": "3361e991",
   "metadata": {},
   "outputs": [],
   "source": []
  }
 ],
 "metadata": {
  "kernelspec": {
   "display_name": "Python 3 (ipykernel)",
   "language": "python",
   "name": "python3"
  },
  "language_info": {
   "codemirror_mode": {
    "name": "ipython",
    "version": 3
   },
   "file_extension": ".py",
   "mimetype": "text/x-python",
   "name": "python",
   "nbconvert_exporter": "python",
   "pygments_lexer": "ipython3",
   "version": "3.9.13"
  }
 },
 "nbformat": 4,
 "nbformat_minor": 5
}
